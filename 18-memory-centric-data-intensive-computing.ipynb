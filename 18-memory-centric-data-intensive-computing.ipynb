{
 "cells": [
  {
   "cell_type": "markdown",
   "metadata": {
    "collapsed": true,
    "slideshow": {
     "slide_type": "slide"
    }
   },
   "source": [
    "## <center>Memory-centric Data Intensive Computing</center>\n",
    "### <center> Linh B. Ngo </center>"
   ]
  },
  {
   "cell_type": "markdown",
   "metadata": {
    "slideshow": {
     "slide_type": "slide"
    }
   },
   "source": [
    "#### Why do we want in-memory computing?"
   ]
  },
  {
   "cell_type": "markdown",
   "metadata": {
    "slideshow": {
     "slide_type": "slide"
    }
   },
   "source": [
    "<center> <img src=\"pictures/18/storage-compare.png\" width=\"500\"/> \n",
    "</center>"
   ]
  },
  {
   "cell_type": "markdown",
   "metadata": {
    "slideshow": {
     "slide_type": "slide"
    }
   },
   "source": [
    "#### What can MapReduce Offer?\n",
    "\n",
    "- Pros:\n",
    "    - Inherently parallel\n",
    "    - Data locality\n",
    "    - Resiliency and Error Recovery\n",
    "\n",
    "- Cons:\n",
    "    - High overhead costs for setting up (JVMs)\n",
    "    - Difficulty in setting up iterative jobs due to inability to transition between MR stages (having to write back to HDFS first)"
   ]
  },
  {
   "cell_type": "markdown",
   "metadata": {
    "slideshow": {
     "slide_type": "slide"
    }
   },
   "source": [
    "#### Do we not like MapReduce anymore?\n",
    "\n",
    "- “If all you have is a hammer, everything becomes a nail”\n",
    "- MapReduce is good for massive scale batch-oriented, single iteration jobs (initial filtering, data cleaning, …)\n",
    "- Additional tools must be developed "
   ]
  },
  {
   "cell_type": "markdown",
   "metadata": {
    "slideshow": {
     "slide_type": "slide"
    }
   },
   "source": [
    "#### What have been developed?\n",
    "\n",
    "- Apache Tez\n",
    "    - Enable automated “chaining” of MR jobs via dataflow graphs\n",
    "- Apache Spark\n",
    "    - Fast processing via read-only in-memory data cache\n",
    "- Tachyon/Alluxio\n",
    "    - RAMdisk-based storage on top of persistent storage (HDFS) to support fast in-memory data access"
   ]
  },
  {
   "cell_type": "markdown",
   "metadata": {
    "slideshow": {
     "slide_type": "slide"
    }
   },
   "source": [
    "#### Apache Tez: Overview\n",
    "\n",
    "- Extensible framework for building high performance batch and interactive data processing applications\n",
    "- User-defined flows of data and tasks to support complex query logic that typically require multiple MR jobs\n",
    "- Current status: Apache top-project, 0.9.0 (https://tez.apache.org/releases/index.html)"
   ]
  },
  {
   "cell_type": "markdown",
   "metadata": {
    "slideshow": {
     "slide_type": "slide"
    }
   },
   "source": [
    "#### Apache Tez: Architecture\n",
    "\n",
    "- Data processing is represented as a dataflow graph\n",
    "- Vertices represent the processing of data\n",
    "- Edges represent movement of data between the processing\n",
    "- For MR jobs, Tez provides the ability to run a chain of Reduce stages as compared to a single Reduce stage"
   ]
  },
  {
   "cell_type": "markdown",
   "metadata": {
    "slideshow": {
     "slide_type": "slide"
    }
   },
   "source": [
    "<center> <img src=\"pictures/18/tez-1.png\" width=\"500\"/> \n",
    "</center>"
   ]
  },
  {
   "cell_type": "markdown",
   "metadata": {
    "slideshow": {
     "slide_type": "slide"
    }
   },
   "source": [
    "<center> <img src=\"pictures/18/tez-2.png\" width=\"500\"/> \n",
    "</center>"
   ]
  },
  {
   "cell_type": "markdown",
   "metadata": {
    "slideshow": {
     "slide_type": "slide"
    }
   },
   "source": [
    "#### Apache Tez: Building Blocks\n",
    "\n",
    "Vertex: Combination of a set of Inputs, a Processor, and a set of Outputs\n",
    "\n",
    "- Input: A pipe through which a processor can accept input data from a data source\n",
    "- Processor: The entity responsible for consuming inputs and producing outputs\n",
    "- Output: A pipe through which a processor can generate output data"
   ]
  },
  {
   "cell_type": "markdown",
   "metadata": {
    "slideshow": {
     "slide_type": "slide"
    }
   },
   "source": [
    "#### Apache Tez: Building Blocks\n",
    "\n",
    "Edge: A logical entity that represents a number of physical connections between the tasks of two connected vertices\n",
    "\n",
    "- Logical: representing the logical edge between 2 vertices\n",
    "- Physical: representing the connection between a task of the Source vertex and a task of a Destination vertex\n",
    "- A Logical Edge can contain multiple Physical Connections"
   ]
  },
  {
   "cell_type": "markdown",
   "metadata": {
    "slideshow": {
     "slide_type": "slide"
    }
   },
   "source": [
    "#### Apache Tez: WordCount DAG\n",
    "\n",
    "<center> <img src=\"pictures/18/tez-3.png\" width=\"700\"/> \n",
    "</center>"
   ]
  },
  {
   "cell_type": "markdown",
   "metadata": {
    "slideshow": {
     "slide_type": "slide"
    }
   },
   "source": [
    "#### Apache Spark: Overview\n",
    "\n",
    "- “Lightning-fast cluster computing”\n",
    "- Integrated into all commercial Hadoop distributions \n",
    "- 2.4.0 (https://spark.apache.org/downloads.html)"
   ]
  },
  {
   "cell_type": "markdown",
   "metadata": {
    "slideshow": {
     "slide_type": "slide"
    }
   },
   "source": [
    "#### Apache Spark: Target Systems and Applications\n",
    "\n",
    "- Systems: \n",
    "    - COTS Clusters for large scale data analytics\n",
    "    - Highly scalable\n",
    "\n",
    "- Applications:\n",
    "    - Reuse intermediate results across multiple computations\n",
    "    - Common in many iterative machine learning and graph algorithms"
   ]
  },
  {
   "cell_type": "markdown",
   "metadata": {
    "slideshow": {
     "slide_type": "slide"
    }
   },
   "source": [
    "#### Apache Spark: Building Blocks\n",
    "\n",
    "- Resilient Distributed Datasets\n",
    "- An abstraction to enable efficient data reuse in a broad range of application\n",
    "- Everything in Spark is built from RDDs"
   ]
  },
  {
   "cell_type": "markdown",
   "metadata": {
    "slideshow": {
     "slide_type": "slide"
    }
   },
   "source": [
    "#### Apache Spark: Building Blocks\n",
    "\n",
    "- Read-only, partitioned collection of records\n",
    "- Created (aka written) through deterministic operations on data\n",
    "    - In stable storage\n",
    "    - From other RDDs\n",
    "- Coarse-grained operations: map, join, filter …\n",
    "- Do not need to be materialized at all time\n",
    "- RDDs are recoverable via data lineage"
   ]
  },
  {
   "cell_type": "markdown",
   "metadata": {
    "slideshow": {
     "slide_type": "slide"
    }
   },
   "source": [
    "<center> <img src=\"pictures/18/spark-1.png\" width=\"500\"/> \n",
    "</center>"
   ]
  },
  {
   "cell_type": "markdown",
   "metadata": {
    "slideshow": {
     "slide_type": "slide"
    }
   },
   "source": [
    "<center> <img src=\"pictures/18/spark-3.png\" width=\"700\"/> \n",
    "</center>"
   ]
  },
  {
   "cell_type": "markdown",
   "metadata": {
    "slideshow": {
     "slide_type": "slide"
    }
   },
   "source": [
    "<center> <img src=\"pictures/18/spark-2.png\" width=\"700\"/> \n",
    "</center>"
   ]
  },
  {
   "cell_type": "markdown",
   "metadata": {
    "slideshow": {
     "slide_type": "slide"
    }
   },
   "source": [
    "#### Apache Spark: A hammer for ...\n",
    "\n",
    "- Applications that make asynchronous fine-grained updates to shared state:\n",
    "- Storage system for web applications (Traditional applications for standard databases)\n",
    "    - Incremental web crawler\n",
    "- …"
   ]
  },
  {
   "cell_type": "markdown",
   "metadata": {
    "slideshow": {
     "slide_type": "slide"
    }
   },
   "source": [
    "#### Apache Spark: Suitable for ...\n",
    "\n",
    "- Interactive Analytics/Pleasantly Parallel Applications\n",
    "- Examples:\n",
    "    - Logistic Regression\n",
    "    - PageRank\n",
    "    - Machine Learning"
   ]
  },
  {
   "cell_type": "markdown",
   "metadata": {
    "slideshow": {
     "slide_type": "slide"
    }
   },
   "source": [
    "#### Tachyon/Alluxio: Overview\n",
    "\n",
    "- Reliable data sharing at memory speed across cluster computing framework\n",
    "- Up to 0.8: Tachyon\n",
    "- From 1.0: Alluxio (currently 1.6)"
   ]
  },
  {
   "cell_type": "markdown",
   "metadata": {
    "slideshow": {
     "slide_type": "slide"
    }
   },
   "source": [
    "#### Alluxio: Key architectural details\n",
    "\n",
    "- Two layers\n",
    "- Master-slave Architecture\n",
    "- Lineage Overhead Garbage Collection\n",
    "- Data Eviction\n",
    "- Master Fault-Tolerance\n",
    "- Check-pointing\n",
    "- Resource Allocation"
   ]
  },
  {
   "cell_type": "markdown",
   "metadata": {
    "slideshow": {
     "slide_type": "slide"
    }
   },
   "source": [
    "#### Alluxio: Key architectural details\n",
    "\n",
    "- Two layers\n",
    "    - Lineage Layer: In-memory Tachyon daemons\n",
    "    - Persstent Layer: Replication-based storage systems (HDFS, S3, …)\n",
    "- Master-slave Architecture\n",
    "    - Master: Lineage metadata and workflow manager\n",
    "    - Workers: memory-mapped files in RAMdisk\n",
    "\n",
    "<center> <img src=\"pictures/18/tachyon-1.png\" width=\"500\"/> \n",
    "</center>"
   ]
  },
  {
   "cell_type": "markdown",
   "metadata": {
    "slideshow": {
     "slide_type": "slide"
    }
   },
   "source": [
    "#### Alluxio: Key architectural details\n",
    "\n",
    "- Lineage Overhead: \n",
    "    - Metadata\n",
    "    - Job binaries\n",
    "    - Garbage collected\n",
    "    \n",
    "    \n",
    "- Data Eviction: based on access frequency and access temporal locality\n",
    "\n",
    "<center> <img src=\"pictures/18/tachyon-2.png\" width=\"500\"/> \n",
    "</center>"
   ]
  },
  {
   "cell_type": "markdown",
   "metadata": {
    "slideshow": {
     "slide_type": "slide"
    }
   },
   "source": [
    "#### Alluxio: Key architectural details\n",
    "\n",
    "- Master Fault-Tolerance\n",
    "    - Standby secondary master\n",
    "    - Zookeeper to elect new master\n",
    "    - Persistent layer to rebuild from lineage\n",
    "- Check-pointing\n",
    "    - Check-point for the entire Tachyon system, not just application\n",
    "    - Check-point key elements in the lineage chain\n",
    "    - Check-point hot files\n",
    "    - Avoid check-point temporary files"
   ]
  },
  {
   "cell_type": "markdown",
   "metadata": {
    "slideshow": {
     "slide_type": "slide"
    }
   },
   "source": [
    "#### Alluxio: key architectural details\n",
    "\n",
    "- Resource Allocation\n",
    "    - How to balance resources between actual work and recomputation work\n",
    "    - Priority compatibility: recomputation priority follow job priority\n",
    "- Resource sharing (no fixed allocation to recomputation)\n",
    "    - Avoid cascading recomputation"
   ]
  },
  {
   "cell_type": "markdown",
   "metadata": {
    "slideshow": {
     "slide_type": "slide"
    }
   },
   "source": [
    "#### Future Driection for the Hadoop Ecosystem:\n",
    "\n",
    "- HDFS is taking lessons from Spark and Alluxio\n",
    "- To be available on Hadoop 3.0.0 (currently beta-1):\n",
    "https://hadoop.apache.org/docs/current/hadoop-project-dist/hadoop-hdfs/MemoryStorage.html"
   ]
  }
 ],
 "metadata": {
  "celltoolbar": "Slideshow",
  "kernelspec": {
   "display_name": "Python 3",
   "language": "python",
   "name": "python3"
  },
  "language_info": {
   "codemirror_mode": {
    "name": "ipython",
    "version": 3
   },
   "file_extension": ".py",
   "mimetype": "text/x-python",
   "name": "python",
   "nbconvert_exporter": "python",
   "pygments_lexer": "ipython3",
   "version": "3.6.5"
  }
 },
 "nbformat": 4,
 "nbformat_minor": 1
}
