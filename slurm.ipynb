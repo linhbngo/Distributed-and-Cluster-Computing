{
 "cells": [
  {
   "cell_type": "markdown",
   "metadata": {
    "collapsed": true,
    "slideshow": {
     "slide_type": "slide"
    }
   },
   "source": [
    "## <center> SLURM </center>"
   ]
  },
  {
   "cell_type": "markdown",
   "metadata": {
    "slideshow": {
     "slide_type": "slide"
    }
   },
   "source": [
    "- Simple Linux Utility for Resource Management\n",
    "- Development began in 2002 at Lawrence Livermore National Laboratory\n",
    "- In production at LNLL in 2003\n",
    "- Currently widely used among Linux clusters world-wide"
   ]
  },
  {
   "cell_type": "markdown",
   "metadata": {
    "slideshow": {
     "slide_type": "slide"
    }
   },
   "source": [
    "### Why not others RMS?\n",
    "\n",
    "- Quadrics RMS: proprietary, limited platform support\n",
    "- PBS: portable, not scalable\n",
    "- IBM LoadLeveler: proprietary, not scalable\n",
    "- LSF: proprietary, scalable but expensive"
   ]
  },
  {
   "cell_type": "markdown",
   "metadata": {
    "slideshow": {
     "slide_type": "slide"
    }
   },
   "source": [
    "### Design Goals\n",
    "- Simplicity: Users can add custom functionalities via plugins\n",
    "- Open source: GNU GPL\n",
    "- Portability: Written in C, portable across other Linux OSes\n",
    "- Interconnect independence: customizable via GNU autoconf and plugins\n",
    "- Scalability: thousands of nodes\n",
    "- Fault Tolerant\n",
    "- Secure\n",
    "- System administrator friendly: few simple configuration files and minimized distributed state"
   ]
  },
  {
   "cell_type": "markdown",
   "metadata": {
    "slideshow": {
     "slide_type": "slide"
    }
   },
   "source": [
    "### Key functions of SLURM\n",
    "\n",
    "- Allocates exclusion and/or non-exclusive access to resources to users for some duration of time so that they can perform work. \n",
    "- Provides a framework for starting, executing, and monitoring work. \n",
    "- Arbitrates confluting requests for resources by managing a queue of pending work. "
   ]
  },
  {
   "cell_type": "markdown",
   "metadata": {
    "slideshow": {
     "slide_type": "slide"
    }
   },
   "source": [
    "### Command line utilities of SLURM\n",
    "- *srun*: submitting a job for execution (batch mode or interactive mode)\n",
    "- *scancel*: early termination of pending or running jobs\n",
    "- *squeue*: monitoring job queue\n",
    "- *sinfo*: monitoring partition and overall system state\n",
    "- *scontrol*: administrative tool for privileged operations\n"
   ]
  },
  {
   "cell_type": "markdown",
   "metadata": {
    "slideshow": {
     "slide_type": "slide"
    }
   },
   "source": [
    "### Revisit Bridges\n",
    "\n",
    "https://ondemand.bridges.psc.edu/"
   ]
  },
  {
   "cell_type": "markdown",
   "metadata": {
    "slideshow": {
     "slide_type": "slide"
    }
   },
   "source": [
    "### SLURM processes\n",
    "\n",
    "- *slurmctld*: central controller daemon to maintain global state and direct operations\n",
    "- *slurmd*: a remote shell daemon to export control on individual compute nodes to SLURM"
   ]
  },
  {
   "cell_type": "markdown",
   "metadata": {
    "slideshow": {
     "slide_type": "slide"
    }
   },
   "source": [
    "### What SLURM is NOT\n",
    "\n",
    "- A sophisticated batch system (only has FIFO by default)\n",
    "- time-sharing WMS (only has space-sharing)\n",
    "- meta-batch system (only supports a single cluster)\n",
    "- a comprehensive cluster administration or monitoring packages"
   ]
  },
  {
   "cell_type": "markdown",
   "metadata": {
    "slideshow": {
     "slide_type": "slide"
    }
   },
   "source": [
    "<center> <img src=\"pictures/slurm/slurm1.gif\" width=\"700\"/> \n",
    "<sub> *https://slurm.schedmd.com/quickstart.html* </sub>\n",
    "</center>"
   ]
  },
  {
   "cell_type": "markdown",
   "metadata": {
    "slideshow": {
     "slide_type": "slide"
    }
   },
   "source": [
    "### References\n",
    "\n",
    "- https://e-reports-ext.llnl.gov/pdf/241220.pdf\n",
    "\n",
    "- https://computing.llnl.gov/tutorials/slurm/slurm.pdf"
   ]
  }
 ],
 "metadata": {
  "celltoolbar": "Slideshow",
  "kernelspec": {
   "display_name": "Python 3",
   "language": "python",
   "name": "python3"
  },
  "language_info": {
   "codemirror_mode": {
    "name": "ipython",
    "version": 3
   },
   "file_extension": ".py",
   "mimetype": "text/x-python",
   "name": "python",
   "nbconvert_exporter": "python",
   "pygments_lexer": "ipython3",
   "version": "3.5.1"
  }
 },
 "nbformat": 4,
 "nbformat_minor": 1
}
