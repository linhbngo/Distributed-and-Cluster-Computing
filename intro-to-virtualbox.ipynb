{
 "cells": [
  {
   "cell_type": "markdown",
   "metadata": {},
   "source": [
    "## Setup Centos 7 Virtual Machine inside VirtualBox\n",
    "\n",
    "In this notebook, we will go over the steps to setup a CentOS7 VM inside VirtualBox on a Windows host. \n",
    "The interface of VirtualBox for this process will be similar for MacOS and Linux. Students with Mac\n",
    "laptops can visit the following resources for more details:\n",
    "- [MacOS](http://www.jeramysingleton.com/install-centos-7-minimal-in-virtualbox/)"
   ]
  },
  {
   "cell_type": "markdown",
   "metadata": {},
   "source": [
    "### Preparation steps:\n",
    "\n",
    "*Installation of VirtualBox*\n",
    "\n",
    "- The dowload and install isntructions for VirtualBox can be found at [virtualbox.org](https://www.virtualbox.org/wiki/Downloads). At the moment, the instructor is using VirtualBox 5.2.18. \n",
    "- All installation options for VirtualBox are kept at the default settings.\n",
    "\n",
    "*CentOS 7*\n",
    "\n",
    "[CentOS 7](http://isoredirect.centos.org/centos/7/isos/x86_64/CentOS-7-x86_64-DVD-1804.iso) will be used as the default guest OS for the VM. You will need to dowload this ISO"
   ]
  },
  {
   "cell_type": "markdown",
   "metadata": {},
   "source": [
    "### Setup a virtual machine inside VirtualBox\n",
    "\n",
    "- Open VirtualBox\n",
    "- Click **New** to bring up the Virtual Machine creation windows\n",
    "- Click **Guided Mode** to switch to a step-by-step interface"
   ]
  },
  {
   "cell_type": "markdown",
   "metadata": {},
   "source": [
    "*Step 1: Name and operating system*\n",
    "\n",
    "- Type in the name of your VM\n",
    "- Select **Linux** to be the operating system\n",
    "- Select **Red Hat (64-bit)** to be the version of the operating system\n",
    "- Click **Next**"
   ]
  },
  {
   "cell_type": "markdown",
   "metadata": {},
   "source": [
    "<center> <img src=\"pictures/virtualbox/vb01.png\" width=\"700\"/>"
   ]
  },
  {
   "cell_type": "markdown",
   "metadata": {},
   "source": [
    "*Step 2: Memory size*\n",
    "\n",
    "- Use the recommended memory size of 1024MB\n",
    "- This number can change depending on how much memory your physical machine has\n",
    "- Click **Next**"
   ]
  },
  {
   "cell_type": "markdown",
   "metadata": {},
   "source": [
    "<center> <img src=\"pictures/virtualbox/vb02.png\" width=\"700\"/>"
   ]
  },
  {
   "cell_type": "markdown",
   "metadata": {},
   "source": [
    "*Step 3: Hard disk*\n",
    " - Select **Create a virtual hard disk now**\n",
    " - Click **Create**"
   ]
  },
  {
   "cell_type": "markdown",
   "metadata": {},
   "source": [
    "<center> <img src=\"pictures/virtualbox/vb03.png\" width=\"700\"/>"
   ]
  },
  {
   "cell_type": "markdown",
   "metadata": {},
   "source": [
    "*Step 4: Hard disk file type*\n",
    "\n",
    "- Keep the default setting at **VMDK**\n",
    "- Click **Next**"
   ]
  },
  {
   "cell_type": "markdown",
   "metadata": {},
   "source": [
    "*Step 5: Storage on physical hard disk*\n",
    "- Keep the default setting at **Dynamically allocated**\n",
    "- Click **Next**\n"
   ]
  },
  {
   "cell_type": "markdown",
   "metadata": {},
   "source": [
    "*Step 6: File location and size*\n",
    "- Set the file size to be **16.00 GB**\n",
    "- By default, the virtual machine file will be written to a directory inside your Windows Documents folder. However, if you want to save your VM on an external drive for portability, it is possible to do so. \n",
    "- Click **Create**"
   ]
  },
  {
   "cell_type": "markdown",
   "metadata": {},
   "source": [
    "<center> <img src=\"pictures/virtualbox/vb04.png\" width=\"700\"/>"
   ]
  },
  {
   "cell_type": "markdown",
   "metadata": {},
   "source": [
    "*Step 7: Set up the VM*\n",
    "- Select the created VM  from the list\n",
    "- Click the **Settings** gear button    "
   ]
  },
  {
   "cell_type": "markdown",
   "metadata": {},
   "source": [
    "<center> <img src=\"pictures/virtualbox/vb05.png\" width=\"700\"/>"
   ]
  },
  {
   "cell_type": "markdown",
   "metadata": {},
   "source": [
    "*Step 8: Settings - General*\n",
    "- Keep all general settings the same"
   ]
  },
  {
   "cell_type": "markdown",
   "metadata": {},
   "source": [
    "*Step 9: Settings - System*\n",
    "- Under the **Processor** tab, increase the number of CPUs to two\n",
    "- Depending on your laptop, you could increase this number further\n",
    "- Keep all other system settings the same"
   ]
  },
  {
   "cell_type": "markdown",
   "metadata": {},
   "source": [
    "<center> <img src=\"pictures/virtualbox/vb06.png\" width=\"700\"/>"
   ]
  },
  {
   "cell_type": "markdown",
   "metadata": {},
   "source": [
    "*Step 10: Settings - Storage*\n",
    "- Select **Controller: IDE**, then click on the disk icon next to **Optical Drive**.\n",
    "- Navigate to the directory where you downloaded the CentOS7 ISO, and select the ISO file\n",
    "- All remaining settings should not be changed\n",
    "- Click **OK** to close the **Settings** window"
   ]
  },
  {
   "cell_type": "markdown",
   "metadata": {},
   "source": [
    "<center> <img src=\"pictures/virtualbox/vb07.png\" width=\"700\"/>"
   ]
  },
  {
   "cell_type": "markdown",
   "metadata": {},
   "source": [
    "<center> <img src=\"pictures/virtualbox/vb08.png\" width=\"700\"/>"
   ]
  },
  {
   "cell_type": "markdown",
   "metadata": {},
   "source": [
    "*Step 11: Launch the VM*\n",
    "- Select the VM from the list\n",
    "- Click the green **Start** button\n",
    "- The WM will be launched, and since the CentOS ISO is loaded in the virtual optical drive, you will be presented with the boot screen of CentOS\n",
    "- When clicking on the VM for the first time. You will also be presented with a popup windows asking persmission to capture the mouse/keyboard for the VM and also containing instructions on how to return mouse/keyboard to the main Windows operating system (Right Ctrl button by default)\n",
    "- Use the Up arrow to select the first option to **Install CentOS 7**, and hit Enter to begin the CentOS installation process"
   ]
  },
  {
   "cell_type": "markdown",
   "metadata": {},
   "source": [
    "<center> <img src=\"pictures/virtualbox/vb09.png\" width=\"700\"/>"
   ]
  },
  {
   "cell_type": "markdown",
   "metadata": {},
   "source": [
    "### Install CentOS 7 on the VM"
   ]
  },
  {
   "cell_type": "markdown",
   "metadata": {},
   "source": [
    "*Step 1: Lanuage selection*\n",
    "- Select English (United States)\n",
    "- Click **Continue**"
   ]
  },
  {
   "cell_type": "markdown",
   "metadata": {},
   "source": [
    "<center> <img src=\"pictures/virtualbox/vb10.png\" width=\"700\"/>"
   ]
  },
  {
   "cell_type": "markdown",
   "metadata": {},
   "source": [
    "*Step 2: Installation Summary*\n",
    "- Click on **Installation Destination**, but do not change anything, and then click Done. This will resolve the warning sign"
   ]
  },
  {
   "cell_type": "markdown",
   "metadata": {},
   "source": [
    "<center> <img src=\"pictures/virtualbox/vb11.png\" width=\"700\"/>"
   ]
  },
  {
   "cell_type": "markdown",
   "metadata": {},
   "source": [
    "<center> <img src=\"pictures/virtualbox/vb12.png\" width=\"700\"/>"
   ]
  },
  {
   "cell_type": "markdown",
   "metadata": {},
   "source": [
    "*Step 3: Installation Summary*\n",
    "- Click on **Network & Host Name**\n",
    "- Click on the slider for Ethernet to turn the Ethernet interface to **ON**\n",
    "- Click **Done**\n",
    "- Click **Begin Installation**"
   ]
  },
  {
   "cell_type": "markdown",
   "metadata": {},
   "source": [
    "<center> <img src=\"pictures/virtualbox/vb13.png\" width=\"700\"/>"
   ]
  },
  {
   "cell_type": "markdown",
   "metadata": {},
   "source": [
    "*Step 4: User Settings*\n",
    "- As CentOS 7 begins its installation process, you will also need to change two user settings options, **Root Password** and **User Creation**"
   ]
  },
  {
   "cell_type": "markdown",
   "metadata": {},
   "source": [
    "<center> <img src=\"pictures/virtualbox/vb14.png\" width=\"700\"/>"
   ]
  },
  {
   "cell_type": "markdown",
   "metadata": {},
   "source": [
    "*Step 5: User Settings - Root Password*\n",
    "\n",
    "- Click **Root Password**\n",
    "- Provide a strong password for the *root* account\n",
    "- Click **Done** to return to the **User Settings** window"
   ]
  },
  {
   "cell_type": "markdown",
   "metadata": {},
   "source": [
    "<center> <img src=\"pictures/virtualbox/vb15.png\" width=\"700\"/>"
   ]
  },
  {
   "cell_type": "markdown",
   "metadata": {},
   "source": [
    "*Step 6: User Settings - User Creation*\n",
    "- Click **User Creation** \n",
    "- Provide information and password for your user account\n",
    "- Check the box on **Make this user administrator**\n",
    "- Click **Done** to return to the **User Settings** window"
   ]
  },
  {
   "cell_type": "markdown",
   "metadata": {},
   "source": [
    "<center> <img src=\"pictures/virtualbox/vb16.png\" width=\"700\"/>"
   ]
  },
  {
   "cell_type": "markdown",
   "metadata": {},
   "source": [
    "*Step 7: Finish Configuration*\n",
    "- As the installation process is completed, click **Finish Configuration** to move to the next stage\n",
    "- Once the final configuration stage is completed, click on **Reboot** to restart the VM"
   ]
  },
  {
   "cell_type": "markdown",
   "metadata": {},
   "source": [
    "<center> <img src=\"pictures/virtualbox/vb17.png\" width=\"700\"/>"
   ]
  },
  {
   "cell_type": "markdown",
   "metadata": {},
   "source": [
    "<center> <img src=\"pictures/virtualbox/vb18.png\" width=\"700\"/>"
   ]
  },
  {
   "cell_type": "markdown",
   "metadata": {},
   "source": [
    "After the reboot is completed, you will be able to login to the newly created CentOS 7 VM"
   ]
  },
  {
   "cell_type": "markdown",
   "metadata": {},
   "source": [
    "<center> <img src=\"pictures/virtualbox/vb19.png\" width=\"700\"/>"
   ]
  },
  {
   "cell_type": "markdown",
   "metadata": {},
   "source": [
    "### Install Anaconda\n",
    "\n",
    "From the terminal of your VM, run the following commands"
   ]
  },
  {
   "cell_type": "markdown",
   "metadata": {},
   "source": [
    "- Download *wget*, *bzip2*, and *curl*\n",
    "```\n",
    "$ sudo yum install -y wget curl bzip2\n",
    "```\n",
    "\n",
    "- Download Anaconda\n",
    "\n",
    "```\n",
    "$ wget https://repo.anaconda.com/archive/Anaconda3-5.2.0-Linux-x86_64.sh\n",
    "```\n",
    "- Run the Anaconda installation script\n",
    "\n",
    "```\n",
    "$ bash Anaconda3-5.2.0-Linux-x86_64.sh\n",
    "```\n",
    "\n",
    "- To scroll through the User Agreements, keep hitting **Space** until you are asked to accept the license terms, then type *yes*\n",
    "- Click Enter to accept the default installation directory.\n",
    "- Type *yes* and hit **Enter** to agree to prepend the path to Anaconda3 installation directory to your .bashrc file\n",
    "- Type *no* and hit **Enter** to opt out of installing VSCode and to complete the installation process\n",
    "- Source bashrc to update the path\n",
    "\n",
    "```\n",
    "$ source ~/.bashrc\n",
    "```"
   ]
  },
  {
   "cell_type": "markdown",
   "metadata": {},
   "source": [
    "### Setup port forwarding \n",
    "\n",
    "This is to allow access to Jupyter Notebook from host machine's browser\n",
    "\n",
    "- Open port 8888 (default port for Jupyter)\n",
    "\n",
    "```\n",
    "$ sudo su\n",
    "$ firewall-cmd --permanent --add-port=8888/tcp\n",
    "$ firewall-cmd --reload\n",
    "$ exit\n",
    "```\n",
    "\n",
    "- Identify guest machine (CentOS Vm) IP address\n",
    "\n",
    "```\n",
    "$ ip addr\n",
    "```"
   ]
  },
  {
   "cell_type": "markdown",
   "metadata": {},
   "source": [
    "<center> <img src=\"pictures/virtualbox/vb20.png\" width=\"700\"/>"
   ]
  },
  {
   "cell_type": "markdown",
   "metadata": {},
   "source": [
    "- On the bottom bar of the VirtualBox window, right-click on the **Network** icon\n",
    "- Select **Network Settings**"
   ]
  },
  {
   "cell_type": "markdown",
   "metadata": {},
   "source": [
    "<center> <img src=\"pictures/virtualbox/vb21.png\" width=\"700\"/>"
   ]
  },
  {
   "cell_type": "markdown",
   "metadata": {},
   "source": [
    "- Click **Advanced** \n",
    "- Click **Port Forward**"
   ]
  },
  {
   "cell_type": "markdown",
   "metadata": {},
   "source": [
    "<center> <img src=\"pictures/virtualbox/vb22.png\" width=\"700\"/>"
   ]
  },
  {
   "cell_type": "markdown",
   "metadata": {},
   "source": [
    "- Click the plus icon and add the following rules\n",
    "- Click **OK** to to accept the Rules\n",
    "- Click **OK** to close the **Network Settings** windows"
   ]
  },
  {
   "cell_type": "markdown",
   "metadata": {},
   "source": [
    "<center> <img src=\"pictures/virtualbox/vb23.png\" width=\"700\"/>"
   ]
  },
  {
   "cell_type": "markdown",
   "metadata": {},
   "source": [
    "### Configure and launch Jupyter\n",
    "\n",
    "From your VM terminal, run the following commands\n",
    "\n",
    "- Generate default configuration file:\n",
    "\n",
    "```\n",
    "$ jupyter notebook --generate-config\n",
    "```\n",
    "\n",
    "- Change default password:\n",
    "\n",
    "```\n",
    "$ jupyter notebook password\n",
    "```\n",
    "\n",
    "- Launch jupyter notebook\n",
    "\n",
    "```\n",
    "$ jupyter notebook --ip 10.0.2.15 --no-browser\n",
    "```"
   ]
  },
  {
   "cell_type": "markdown",
   "metadata": {},
   "source": [
    "<center> <img src=\"pictures/virtualbox/vb24.png\" width=\"700\"/>"
   ]
  },
  {
   "cell_type": "markdown",
   "metadata": {},
   "source": [
    "You can now access a Jupyter Notebook server from your host machine's browser. This will be the default platform for the majority of lectures and labs in this class. "
   ]
  },
  {
   "cell_type": "markdown",
   "metadata": {},
   "source": [
    "<center> <img src=\"pictures/virtualbox/vb25.png\" width=\"700\"/>"
   ]
  },
  {
   "cell_type": "markdown",
   "metadata": {},
   "source": [
    "### Exercise\n",
    "\n",
    "- Using the terminal on the JupyterHub browser, install *git* using *yum install*\n",
    "- Clone the class materials from Github at https://github.com/linhbngo/Distributed-and-Cluster-Computing into your VM"
   ]
  }
 ],
 "metadata": {
  "kernelspec": {
   "display_name": "Python 3",
   "language": "python",
   "name": "python3"
  },
  "language_info": {
   "codemirror_mode": {
    "name": "ipython",
    "version": 3
   },
   "file_extension": ".py",
   "mimetype": "text/x-python",
   "name": "python",
   "nbconvert_exporter": "python",
   "pygments_lexer": "ipython3",
   "version": "3.6.5"
  }
 },
 "nbformat": 4,
 "nbformat_minor": 2
}
