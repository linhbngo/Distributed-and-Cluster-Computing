{
 "cells": [
  {
   "cell_type": "markdown",
   "metadata": {},
   "source": [
    "### Assignment 5 (30 points)\n",
    "\n",
    "In this assignment, each team will extend and redesign the cluster created in Assignment 4 to include a SLURM scheduler.\n",
    "\n",
    "Part I: (20 points)\n",
    "\n",
    "You are to augment your cluster from assignment 4 with a SLURM scheduler in the following manner:\n",
    "\n",
    "- SLURM's *slurmctld* daemon is to be run on the **head** node.  \n",
    "- SLURM's *slurmd* deamons are to be run only on the **compute-** nodes.\n",
    "- SLURM's *slurmdbd* database is to be set up on the **metadata** node. \n",
    "\n",
    "- To test your setting, you will demonstrate that you can submit a SLURM batch script that requests 2 compute nodes, compiles `hello.c`, and run the resulting binaries on the two compute nodes.  \n",
    "\n",
    "- *It is recommended that you scale your cluster back down to only 3 compute nodes first*\n",
    "\n",
    "Part II: (10 points)\n",
    "\n",
    "Once your cluster is working properly, modify your profile as follows:\n",
    "\n",
    "- Increase the number of **compute-** nodes from 3 back to 12. \n",
    "- Modify your batch script such that it requests the necessary resources to perform the timing evaluation of the compiled pi_mc.c source code for the following amount of processes: 2, 4, 6, 8, 10, and 12. \n",
    " \n",
    "#### Submission:\n",
    "\n",
    "You should submit a text file to D2L containing the following:\n",
    "\n",
    "- URL to your team's Github repository.\n",
    "- URL to your CloudLab experiment that has a successful deployment of the profile. The experiment's duration should have been extended such that there are **at least 24 hours** remain from the D2L submission time. \n",
    "- Information about the directory containing the job output for Part II. \n",
    "- Any additional notes that I must be aware of when testing your experiment\n",
    "- This is a team assignment. Each team should only have one submission\n",
    "\n",
    "#### Technical Reference:\n",
    "\n",
    "You can start with https://slurm.schedmd.com/quickstart_admin.html"
   ]
  }
 ],
 "metadata": {
  "kernelspec": {
   "display_name": "Python 3",
   "language": "python",
   "name": "python3"
  },
  "language_info": {
   "codemirror_mode": {
    "name": "ipython",
    "version": 3
   },
   "file_extension": ".py",
   "mimetype": "text/x-python",
   "name": "python",
   "nbconvert_exporter": "python",
   "pygments_lexer": "ipython3",
   "version": "3.5.1"
  }
 },
 "nbformat": 4,
 "nbformat_minor": 2
}
