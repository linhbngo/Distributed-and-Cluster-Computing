{
 "cells": [
  {
   "cell_type": "markdown",
   "metadata": {},
   "source": [
    "### Assignment 4 (30 points)\n",
    "\n",
    "In this assignment, each team will extend and redesign the cluster created in Assignment 3 to include a shared file system.\n",
    "\n",
    "Part I: (20 points)\n",
    "\n",
    "You are to update your fork with new updates from the original cluster template. This could be done in the following manner: https://help.github.com/articles/syncing-a-fork/ \n",
    "\n",
    "You are to set up a networked file system (NFS) to help mount the following shared file systems on the **compute-** nodes: \n",
    "\n",
    "- One NFS is originated from the **head** node, and supports a shared directory called `/software`. \n",
    "- One NFS is originated from the **storage** node, and supports a shared directory called `/scratch`.\n",
    "\n",
    "- The above NFS directories are to be mounted on the **head** node and **compute-** nodes.\n",
    "- The above NFS directories should be automounted. \n",
    "\n",
    "You are to modify the `install_mpi.sh` script so that OpenMPI is now installed only on the **head** node inside the `/software` directory\n",
    "\n",
    "- You must also modify the default PATH on all **compute-** nodes so that `mpirun`, `mpicc`, and all other MPI-related commands and libraries are accessible directly without having to provide the full path to the MPI installation. \n",
    "- To test your setting, you will copy the `hello.c` and `machine_list` files to `/scratch` and demonstrate that you only need to compile `hello.c` once to run them across all **compute-** nodes. \n",
    "\n",
    "Part II: (10 points)\n",
    "\n",
    "Once your cluster is working properly, modify your profile as follows:\n",
    "\n",
    "- increase the number of **compute-** nodes from 3 to 12. \n",
    "- include an additional MPI source file containing the modified pi_mc.c source code with timer (we will cover this in the Pleasantly Parallel notebook).\n",
    "- run and record timing results for the following amount of processes: 2, 4, 6, 8, 10, and 12. \n",
    " \n",
    "#### Submission:\n",
    "\n",
    "You should submit a text file to D2L containing the following:\n",
    "\n",
    "- URL to your team's Github repository.\n",
    "- URL to your CloudLab experiment that has a successful deployment of the profile. The experiment's duration should have been extended such that there are **at least 24 hours** remain from the D2L submission time. \n",
    "- The recorded timing results in Part II. \n",
    "- Any additional notes that I must be aware of when testing your experiment\n",
    "- This is a team assignment. Each team should only have one submission"
   ]
  }
 ],
 "metadata": {
  "kernelspec": {
   "display_name": "Python 3",
   "language": "python",
   "name": "python3"
  },
  "language_info": {
   "codemirror_mode": {
    "name": "ipython",
    "version": 3
   },
   "file_extension": ".py",
   "mimetype": "text/x-python",
   "name": "python",
   "nbconvert_exporter": "python",
   "pygments_lexer": "ipython3",
   "version": "3.5.1"
  }
 },
 "nbformat": 4,
 "nbformat_minor": 2
}
